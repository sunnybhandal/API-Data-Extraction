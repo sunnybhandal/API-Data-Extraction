{
 "cells": [
  {
   "cell_type": "markdown",
   "metadata": {},
   "source": [
    "## Movies\n",
    "In this part of mini-project, we need to have our API-KEY ready because this API won't work without it.\n",
    "\n",
    "We encourage you to look for correct endpoints in [the documentation](https://developers.themoviedb.org/3/account). We can also play around with requests there before copying them to Python."
   ]
  },
  {
   "cell_type": "code",
   "execution_count": 1,
   "metadata": {},
   "outputs": [],
   "source": [
    "import json\n",
    "import requests\n",
    "import os\n",
    "from IPython.display import JSON"
   ]
  },
  {
   "cell_type": "markdown",
   "metadata": {},
   "source": [
    "## Demo"
   ]
  },
  {
   "cell_type": "code",
   "execution_count": 315,
   "metadata": {},
   "outputs": [
    {
     "data": {
      "text/plain": [
       "200"
      ]
     },
     "execution_count": 315,
     "metadata": {},
     "output_type": "execute_result"
    }
   ],
   "source": [
    "base = \"https://api.themoviedb.org/3\"\n",
    "url = \"/movie/155\"\n",
    "\n",
    "api_key = \"7aea79b68f5f012f3ce9164418062533\"\n",
    "\n",
    "res_fav_movie = requests.get(base+url,\n",
    "                   params = {'api_key': api_key})\n",
    "res_fav_movie.status_code"
   ]
  },
  {
   "cell_type": "code",
   "execution_count": 316,
   "metadata": {},
   "outputs": [
    {
     "data": {
      "application/json": {
       "adult": false,
       "backdrop_path": "/nMKdUUepR0i5zn0y1T4CsSB5chy.jpg",
       "belongs_to_collection": {
        "backdrop_path": "/xfKot7lqaiW4XpL5TtDlVBA9ei9.jpg",
        "id": 263,
        "name": "The Dark Knight Collection",
        "poster_path": "/jyJ0aWWJamLUzEyYq0XENwp8jX6.jpg"
       },
       "budget": 185000000,
       "genres": [
        {
         "id": 18,
         "name": "Drama"
        },
        {
         "id": 28,
         "name": "Action"
        },
        {
         "id": 80,
         "name": "Crime"
        },
        {
         "id": 53,
         "name": "Thriller"
        }
       ],
       "homepage": "https://www.warnerbros.com/movies/dark-knight/",
       "id": 155,
       "imdb_id": "tt0468569",
       "original_language": "en",
       "original_title": "The Dark Knight",
       "overview": "Batman raises the stakes in his war on crime. With the help of Lt. Jim Gordon and District Attorney Harvey Dent, Batman sets out to dismantle the remaining criminal organizations that plague the streets. The partnership proves to be effective, but they soon find themselves prey to a reign of chaos unleashed by a rising criminal mastermind known to the terrified citizens of Gotham as the Joker.",
       "popularity": 58.196,
       "poster_path": "/qJ2tW6WMUDux911r6m7haRef0WH.jpg",
       "production_companies": [
        {
         "id": 429,
         "logo_path": "/2Tc1P3Ac8M479naPp1kYT3izLS5.png",
         "name": "DC Comics",
         "origin_country": "US"
        },
        {
         "id": 923,
         "logo_path": "/5UQsZrfbfG2dYJbx8DxfoTr2Bvu.png",
         "name": "Legendary Pictures",
         "origin_country": "US"
        },
        {
         "id": 9996,
         "logo_path": "/3tvBqYsBhxWeHlu62SIJ1el93O7.png",
         "name": "Syncopy",
         "origin_country": "GB"
        },
        {
         "id": 118865,
         "logo_path": null,
         "name": "Isobel Griffiths",
         "origin_country": "GB"
        },
        {
         "id": 9993,
         "logo_path": "/2Tc1P3Ac8M479naPp1kYT3izLS5.png",
         "name": "DC Entertainment",
         "origin_country": "US"
        },
        {
         "id": 174,
         "logo_path": "/IuAlhI9eVC9Z8UQWOIDdWRKSEJ.png",
         "name": "Warner Bros. Pictures",
         "origin_country": "US"
        }
       ],
       "production_countries": [
        {
         "iso_3166_1": "GB",
         "name": "United Kingdom"
        },
        {
         "iso_3166_1": "US",
         "name": "United States of America"
        }
       ],
       "release_date": "2008-07-16",
       "revenue": 1004558444,
       "runtime": 152,
       "spoken_languages": [
        {
         "english_name": "English",
         "iso_639_1": "en",
         "name": "English"
        },
        {
         "english_name": "Mandarin",
         "iso_639_1": "zh",
         "name": "普通话"
        }
       ],
       "status": "Released",
       "tagline": "Why So Serious?",
       "title": "The Dark Knight",
       "video": false,
       "vote_average": 8.5,
       "vote_count": 25294
      },
      "text/plain": [
       "<IPython.core.display.JSON object>"
      ]
     },
     "execution_count": 316,
     "metadata": {
      "application/json": {
       "expanded": false,
       "root": "root"
      }
     },
     "output_type": "execute_result"
    }
   ],
   "source": [
    "JSON(res_fav_movie.json())"
   ]
  },
  {
   "cell_type": "markdown",
   "metadata": {},
   "source": [
    "## Task\n",
    "Search for you favorite movie and return the information about the movie:\n",
    "- name\n",
    "- release date\n",
    "- runtime\n",
    "- revenue\n",
    "- length of the overview\n",
    "- number of votes\n",
    "- voting average"
   ]
  },
  {
   "cell_type": "code",
   "execution_count": 314,
   "metadata": {},
   "outputs": [
    {
     "name": "stdout",
     "output_type": "stream",
     "text": [
      "My Favorite Movie: The Dark Knight\n",
      "Release Date: 2008-07-16\n",
      "Runtime: 152 minutes\n",
      "Revenue: 1,004,558,444\n",
      "Overview Length: 396 characters\n",
      "Number of Votes: 25,294\n",
      "The Voting Average: 8.5\n"
     ]
    }
   ],
   "source": [
    "movie_name = dark_knight['original_title']\n",
    "release_date = dark_knight['release_date']\n",
    "runtime = dark_knight['runtime']\n",
    "revenue = dark_knight['revenue']\n",
    "overview_length = len(dark_knight['overview'])\n",
    "vote_count = dark_knight['vote_count']\n",
    "vote_average = dark_knight['vote_average']\n",
    "\n",
    "# Get the info\n",
    "print(f\"My Favorite Movie: {movie_name}\")\n",
    "print(f\"Release Date: {release_date}\")\n",
    "print(f\"Runtime: {runtime} minutes\")\n",
    "print(f\"Revenue: {revenue:,}\")\n",
    "print(f\"Overview Length: {overview_length} characters\")\n",
    "print(f\"Number of Votes: {vote_count:,}\")\n",
    "print(f\"The Voting Average: {vote_average:,}\")"
   ]
  },
  {
   "cell_type": "code",
   "execution_count": 317,
   "metadata": {},
   "outputs": [],
   "source": [
    "dark_knight = res_fav_movie.json()\n",
    "\n",
    "def fav_movie(movie, detail):\n",
    "    \"\"\"Function that will return the details about my fav movie\"\"\"\n",
    "    \n",
    "    # Title \n",
    "    if detail == 'original_title':\n",
    "        movie_name = movie[detail]\n",
    "        print(f\"My Favorite Movie: {movie_name}\")\n",
    "    # Release Date\n",
    "    elif detail == 'release_date':\n",
    "        release_date = movie[detail]\n",
    "        print(f\"Release Dates: {release_date}\")\n",
    "    # Runtime\n",
    "    elif detail == 'runtime':\n",
    "        runtime = movie[detail]\n",
    "        print(f\"Runtime: {runtime} minutes\")\n",
    "    # Revenue\n",
    "    elif detail == 'revenue':\n",
    "        revenue = movie[detail]\n",
    "        print(f\"Revenue: {revenue:,}\")\n",
    "    # Overview Length\n",
    "    elif detail == 'overview':\n",
    "        overview_length = len(movie[detail])\n",
    "        print(f\"Overview Length: {overview_length} characters\")\n",
    "    # Vote Count\n",
    "    elif detail == 'vote_count':\n",
    "        vote_count = movie[detail]\n",
    "        print(f\"Number of Votes: {vote_count:,}\")\n",
    "    # Voting Average\n",
    "    elif detail == 'vote_average':\n",
    "        vote_average = movie[detail]\n",
    "        print(f\"The Voting Average: {vote_average}\")\n",
    "    # Wrong detail chosen\n",
    "    else:\n",
    "        print(\"Try a different detail\")\n",
    "    "
   ]
  },
  {
   "cell_type": "code",
   "execution_count": 318,
   "metadata": {},
   "outputs": [
    {
     "name": "stdout",
     "output_type": "stream",
     "text": [
      "My Favorite Movie: The Dark Knight\n",
      "Release Dates: 2008-07-16\n",
      "Runtime: 152 minutes\n",
      "Revenue: 1,004,558,444\n",
      "Overview Length: 396 characters\n",
      "Number of Votes: 25,294\n",
      "The Voting Average: 8.5\n"
     ]
    }
   ],
   "source": [
    "fav_movie(dark_knight,'original_title')\n",
    "fav_movie(dark_knight,'release_date')\n",
    "fav_movie(dark_knight,'runtime')\n",
    "fav_movie(dark_knight,'revenue')\n",
    "fav_movie(dark_knight,'overview')\n",
    "fav_movie(dark_knight,'vote_count')\n",
    "fav_movie(dark_knight,'vote_average')"
   ]
  },
  {
   "cell_type": "markdown",
   "metadata": {},
   "source": [
    "## Task\n",
    "Search for you favorite actor/actress and return the information about him/her:\n",
    "- name\n",
    "- date of birth\n",
    "- place of birth\n",
    "- length of the biography"
   ]
  },
  {
   "cell_type": "code",
   "execution_count": 296,
   "metadata": {},
   "outputs": [
    {
     "data": {
      "text/plain": [
       "200"
      ]
     },
     "execution_count": 296,
     "metadata": {},
     "output_type": "execute_result"
    }
   ],
   "source": [
    "base = \"https://api.themoviedb.org/3\"\n",
    "url = \"/person/6193\"\n",
    "\n",
    "person_id = 6193 # Leo Dicaprio\n",
    "res = requests.get(base+url,\n",
    "                  params = {'api_key': api_key})\n",
    "res.status_code"
   ]
  },
  {
   "cell_type": "code",
   "execution_count": 54,
   "metadata": {},
   "outputs": [
    {
     "data": {
      "application/json": {
       "adult": false,
       "also_known_as": [
        "Леонардо ДиКаприо",
        "ليوناردو دي كابريو",
        "레오나르도 디카프리오",
        "レオナルド・ディカプリオ",
        "ลีโอนาร์โด ดิแคพรีโอ",
        "莱昂纳多·迪卡普里奥",
        "Leo DiCaprio",
        "Leonardo Wilhelm DiCaprio",
        "Λεονάρντο Ντι Κάπριο",
        "Ντι Κάπριο",
        "Леонардо Ді Капріо",
        "Леонардо ДіКапріо",
        "לאונרדו דיקפריו",
        "ലിയനാർഡോ ഡികാപ്രിയോ"
       ],
       "biography": "Leonardo DiCaprio (born November 11, 1974) is an American actor, film producer, and environmental activist.\n\nHe began his film career by starring as Josh in Critters 3 before starring in the film adaptation of the memoir This Boy's Life (1993) alongside Robert De Niro. DiCaprio was praised for his supporting role in the drama What's Eating Gilbert Grape (1993), and gained public recognition with leading roles in the drama The Basketball Diaries (1995) and the romantic drama Romeo + Juliet (1996), before achieving international fame with James Cameron's epic romance Titanic (1997) He has been nominated for six Academy Awards—five for acting and one for producing—and in 2016, he won the Academy Award for Best Actor for The Revenant.\n\nDiCaprio is the founder of his own production company, named Appian Way Productions. He is also a committed environmentalist.",
       "birthday": "1974-11-11",
       "deathday": null,
       "gender": 2,
       "homepage": "http://leonardodicaprio.com",
       "id": 6193,
       "imdb_id": "nm0000138",
       "known_for_department": "Acting",
       "name": "Leonardo DiCaprio",
       "place_of_birth": "Los Angeles, California, USA",
       "popularity": 11.053,
       "profile_path": "/wo2hJpn04vbtmh0B9utCFdsQhxM.jpg"
      },
      "text/plain": [
       "<IPython.core.display.JSON object>"
      ]
     },
     "execution_count": 54,
     "metadata": {
      "application/json": {
       "expanded": false,
       "root": "root"
      }
     },
     "output_type": "execute_result"
    }
   ],
   "source": [
    "JSON(res.json())"
   ]
  },
  {
   "cell_type": "code",
   "execution_count": 303,
   "metadata": {},
   "outputs": [],
   "source": [
    "leo_dicap = res.json()\n",
    "\n",
    "def fav_actor(actor, detail):\n",
    "    \"\"\"Function that will return the details about my fav actor\"\"\"\n",
    "    \n",
    "    # Title \n",
    "    if detail == 'name':\n",
    "        leo_name = actor[detail]\n",
    "        print(f\"My Favorite Actor: {leo_name}\")\n",
    "    # Release Date\n",
    "    elif detail == 'birthday':\n",
    "        leo_dob = actor[detail]\n",
    "        print(f\"Date of Birth: {leo_dob}\")\n",
    "    # Runtime\n",
    "    elif detail == 'place_of_birth':\n",
    "        leo_place_birth = actor[detail]\n",
    "        print(f\"Place of Birth: {leo_place_birth}\")\n",
    "    # Revenue\n",
    "    elif detail == 'biography':\n",
    "        length_of_bio = len(actor[detail])\n",
    "        print(f\"Length of Biography: {length_of_bio} characters\")\n",
    "    else:\n",
    "        print(\"Try a different detail\")\n",
    "        "
   ]
  },
  {
   "cell_type": "code",
   "execution_count": 304,
   "metadata": {},
   "outputs": [
    {
     "name": "stdout",
     "output_type": "stream",
     "text": [
      "My Favorite Actor: Leonardo DiCaprio\n",
      "Date of Birth: 1974-11-11\n",
      "Place of Birth: Los Angeles, California, USA\n",
      "Length of Biography: 867 characters\n"
     ]
    }
   ],
   "source": [
    "fav_actor(leo_dicap, 'name')\n",
    "fav_actor(leo_dicap, 'birthday')\n",
    "fav_actor(leo_dicap, 'place_of_birth')\n",
    "fav_actor(leo_dicap, 'biography')"
   ]
  },
  {
   "cell_type": "markdown",
   "metadata": {},
   "source": [
    "## Task\n",
    "Search for you favorite tv-show and return the information about it:\n",
    "- name\n",
    "- first air date\n",
    "- number of seasons\n",
    "- number of episodes\n",
    "- genres"
   ]
  },
  {
   "cell_type": "code",
   "execution_count": 195,
   "metadata": {},
   "outputs": [
    {
     "data": {
      "text/plain": [
       "200"
      ]
     },
     "execution_count": 195,
     "metadata": {},
     "output_type": "execute_result"
    }
   ],
   "source": [
    "base = \"https://api.themoviedb.org/3\"\n",
    "url = \"/tv/62560\"\n",
    "\n",
    "tv_id = 62560 # Mr. Robot\n",
    "res = requests.get(base+url,\n",
    "                   params = {'api_key': api_key})\n",
    "res.status_code"
   ]
  },
  {
   "cell_type": "code",
   "execution_count": 196,
   "metadata": {},
   "outputs": [
    {
     "data": {
      "application/json": {
       "backdrop_path": "/4n0TZfTUSUELqRrOA8sZKWs9bWU.jpg",
       "created_by": [
        {
         "credit_id": "556d1030c3a3686a9a00065b",
         "gender": 2,
         "id": 1331163,
         "name": "Sam Esmail",
         "profile_path": "/mej39wMtNDsOI5HklLb65QAiM6K.jpg"
        }
       ],
       "episode_run_time": [
        43
       ],
       "first_air_date": "2015-06-24",
       "genres": [
        {
         "id": 80,
         "name": "Crime"
        },
        {
         "id": 18,
         "name": "Drama"
        }
       ],
       "homepage": "https://www.usanetwork.com/mr-robot",
       "id": 62560,
       "in_production": false,
       "languages": [
        "en"
       ],
       "last_air_date": "2019-12-22",
       "last_episode_to_air": {
        "air_date": "2019-12-22",
        "episode_number": 13,
        "id": 2010262,
        "name": "Hello, Elliot",
        "overview": "Goodbye, Friend",
        "production_code": "",
        "season_number": 4,
        "still_path": "/9StdytbybFxHW380uvODXsBPAe3.jpg",
        "vote_average": 7.8,
        "vote_count": 12
       },
       "name": "Mr. Robot",
       "networks": [
        {
         "id": 30,
         "logo_path": "/g1e0H0Ka97IG5SyInMXdJkHGKiH.png",
         "name": "USA Network",
         "origin_country": "US"
        }
       ],
       "next_episode_to_air": null,
       "number_of_episodes": 45,
       "number_of_seasons": 4,
       "origin_country": [
        "US"
       ],
       "original_language": "en",
       "original_name": "Mr. Robot",
       "overview": "A contemporary and culturally resonant drama about a young programmer, Elliot, who suffers from a debilitating anti-social disorder and decides that he can only connect to people by hacking them. He wields his skills as a weapon to protect the people that he cares about. Elliot will find himself in the intersection between a cybersecurity firm he works for and the underworld organizations that are recruiting him to bring down corporate America.",
       "popularity": 65.057,
       "poster_path": "/oKIBhzZzDX07SoE2bOLhq2EE8rf.jpg",
       "production_companies": [
        {
         "id": 10039,
         "logo_path": "/b8w4LldQolMKiLZw4FQJBcXSDGI.png",
         "name": "Anonymous Content",
         "origin_country": "US"
        },
        {
         "id": 7938,
         "logo_path": "/8I52qpy2Dp48gD9Jf6W1D6E7Imo.png",
         "name": "UCP",
         "origin_country": "US"
        },
        {
         "id": 105356,
         "logo_path": "/zuUO2ihuuHkAQFlSmN5a6PtTltJ.png",
         "name": "Esmail Corp",
         "origin_country": "US"
        }
       ],
       "production_countries": [
        {
         "iso_3166_1": "US",
         "name": "United States of America"
        }
       ],
       "seasons": [
        {
         "air_date": "2016-06-20",
         "episode_count": 18,
         "id": 77843,
         "name": "Specials",
         "overview": "",
         "poster_path": "/7MQ8tnk0Ne2uZRLDYrVUbJwpAh1.jpg",
         "season_number": 0
        },
        {
         "air_date": "2015-06-24",
         "episode_count": 10,
         "id": 66343,
         "name": "season_1.0",
         "overview": "Elliot finds himself at a crossroad when the mysterious leader of an underground hacker group recruits him to destroy the firm he is paid to protect. Compelled by his personal beliefs, Elliot struggles to resist the chance to take down the multinational CEOs he believes are running (and ruining) the world.",
         "poster_path": "/1aiNh5Gak36EdpdwhvWHIXzAj50.jpg",
         "season_number": 1
        },
        {
         "air_date": "2016-07-13",
         "episode_count": 12,
         "id": 75658,
         "name": "season_2.0",
         "overview": "Following the events of fsociety’s 5/9 hack on multi-national company Evil Corp, season two explores the consequences of that attack as well as the illusion of control.",
         "poster_path": "/kQKqOLDiwpf8VNGrZSCfw7gRj0Q.jpg",
         "season_number": 2
        },
        {
         "air_date": "2017-10-11",
         "episode_count": 10,
         "id": 91537,
         "name": "season_3.0",
         "overview": "Picking up immediately following the season two cliffhanger, season three explores each character’s motivations and the disintegration between Elliot and Mr. Robot.",
         "poster_path": "/AmRhiyXwFvcoqm8DpZCPkFs6vqK.jpg",
         "season_number": 3
        },
        {
         "air_date": "2019-10-06",
         "episode_count": 13,
         "id": 131086,
         "name": "season_4.0",
         "overview": "Goodbye, friend.",
         "poster_path": "/4PxMbpF3pv5B8eYw48hZ1hy16gr.jpg",
         "season_number": 4
        }
       ],
       "spoken_languages": [
        {
         "english_name": "English",
         "iso_639_1": "en",
         "name": "English"
        }
       ],
       "status": "Ended",
       "tagline": "Hello friend.",
       "type": "Scripted",
       "vote_average": 8.2,
       "vote_count": 2941
      },
      "text/plain": [
       "<IPython.core.display.JSON object>"
      ]
     },
     "execution_count": 196,
     "metadata": {
      "application/json": {
       "expanded": false,
       "root": "root"
      }
     },
     "output_type": "execute_result"
    }
   ],
   "source": [
    "JSON(res.json())"
   ]
  },
  {
   "cell_type": "code",
   "execution_count": 201,
   "metadata": {},
   "outputs": [
    {
     "name": "stdout",
     "output_type": "stream",
     "text": [
      "name: Mr. Robot\n",
      "first_air_date: 2015-06-24\n",
      "number_of_seasons: 4\n",
      "number_of_episodes: 45\n",
      "genres: ['Crime', 'Drama']\n"
     ]
    }
   ],
   "source": [
    "fav_show = res.json()\n",
    "\n",
    "# Get the info\n",
    "def fav_tv_show(detail):\n",
    "    \"\"\"Function to get my favorite shows information\"\"\"\n",
    "    \n",
    "    # General Info\n",
    "    if detail != 'genres':\n",
    "        for i in fav_show:\n",
    "            if i == detail:\n",
    "                print(f\"{detail}: {fav_show[i]}\")\n",
    "    \n",
    "    # Get the genres\n",
    "    if detail == 'genres':\n",
    "        genres = [i['name'] for i in fav_show[detail]]\n",
    "        print(F\"{detail}: {genres}\")\n",
    "        \n",
    "fav_tv_show('name')\n",
    "fav_tv_show('first_air_date')\n",
    "fav_tv_show('number_of_seasons')\n",
    "fav_tv_show('number_of_episodes')\n",
    "fav_tv_show('genres')"
   ]
  },
  {
   "cell_type": "markdown",
   "metadata": {},
   "source": [
    "## Task \n",
    "Find top 5 trending:\n",
    "- movies\n",
    "- tv-shows\n",
    "- people"
   ]
  },
  {
   "cell_type": "code",
   "execution_count": 138,
   "metadata": {},
   "outputs": [],
   "source": [
    "url_movies = \"/trending/movie/day\"\n",
    "url_tv = \"/trending/tv/day\"\n",
    "url_people = \"/trending/person/day\"\n",
    "\n",
    "res_movies = requests.get(base+url_movies,\n",
    "                   params = {'api_key': api_key})\n",
    "res_tv = requests.get(base+url_tv,\n",
    "                   params = {'api_key': api_key})\n",
    "res_people = requests.get(base+url_people,\n",
    "                   params = {'api_key': api_key})\n",
    "\n",
    "# Check status codes\n",
    "\n",
    "if res_movies.status_code != 200:\n",
    "    print(\"Incorrect Request\")\n",
    "    \n",
    "if res_tv.status_code != 200:\n",
    "    print(\"Incorrect Request\")\n",
    "    \n",
    "if res_people.status_code != 200:\n",
    "    print(\"Incorrect Request\")\n"
   ]
  },
  {
   "cell_type": "code",
   "execution_count": 170,
   "metadata": {},
   "outputs": [
    {
     "data": {
      "application/json": {
       "page": 1,
       "results": [
        {
         "adult": false,
         "backdrop_path": "/620hnMVLu6RSZW6a5rwO8gqpt0t.jpg",
         "genre_ids": [
          16,
          35,
          10751,
          14
         ],
         "id": 508943,
         "media_type": "movie",
         "original_language": "en",
         "original_title": "Luca",
         "overview": "Luca and his best friend Alberto experience an unforgettable summer on the Italian Riviera. But all the fun is threatened by a deeply-held secret: they are sea monsters from another world just below the water’s surface.",
         "popularity": 6537.554,
         "poster_path": "/7rhzEufovmmUqVjcbzMHTBQ2SCG.jpg",
         "release_date": "2021-06-17",
         "title": "Luca",
         "video": false,
         "vote_average": 8.3,
         "vote_count": 1066
        },
        {
         "adult": false,
         "backdrop_path": "/5LhSL7kh0LzChNjnjmhZKzEW9CJ.jpg",
         "genre_ids": [
          16,
          12,
          10751,
          37
         ],
         "id": 637693,
         "media_type": "movie",
         "original_language": "en",
         "original_title": "Spirit Untamed",
         "overview": "When Lucky, a young society girl, moves to the West to join her estranged father, she starts a new chapter in her life as she makes new friends, and forms an unbreakable bond with a wild stallion she names Spirit. Together, the girls and their horses undertake the adventure of a lifetime when they must save the stallion’s herd from a gang of horse wranglers, proving to themselves to be true Western heroes.",
         "popularity": 120.197,
         "poster_path": "/5cbGVDmRMYVzkq5cItZ7cYlDdDR.jpg",
         "release_date": "2021-05-20",
         "title": "Spirit Untamed",
         "video": false,
         "vote_average": 7.5,
         "vote_count": 18
        },
        {
         "adult": false,
         "backdrop_path": "/klQJJGLRxyZUoiWusZ5GA3qAtiq.jpg",
         "genre_ids": [
          28,
          53
         ],
         "id": 646207,
         "media_type": "movie",
         "original_language": "en",
         "original_title": "The Ice Road",
         "overview": "After a remote diamond mine collapses in far northern Canada, an ice road driver must lead an impossible rescue mission over a frozen ocean to save the trapped miners.",
         "popularity": 62.044,
         "poster_path": "/pj6UQPrtmC0snzPeU1HUhGWTgz6.jpg",
         "release_date": "2021-06-25",
         "title": "The Ice Road",
         "video": false,
         "vote_average": 0,
         "vote_count": 0
        },
        {
         "adult": false,
         "backdrop_path": "/enlicWSFU0H2JNe3TgHNe4RIGWT.jpg",
         "genre_ids": [
          35,
          10749,
          53,
          9648,
          18
         ],
         "id": 823461,
         "media_type": "movie",
         "original_language": "en",
         "original_title": "Good on Paper",
         "overview": "After years of putting her career ahead of love, stand-up comic Andrea Singer has stumbled upon the perfect guy. On paper, he checks all the boxes but is he everything he appears to be?",
         "popularity": 53.514,
         "poster_path": "/6gnB9xj4dQALKX2ph1CvbWkG5B7.jpg",
         "release_date": "2021-06-23",
         "title": "Good on Paper",
         "video": false,
         "vote_average": 6,
         "vote_count": 11
        },
        {
         "adult": false,
         "backdrop_path": "/xXHZeb1yhJvnSHPzZDqee0zfMb6.jpg",
         "genre_ids": [
          28,
          12,
          80
         ],
         "id": 385128,
         "media_type": "movie",
         "original_language": "en",
         "original_title": "F9",
         "overview": "Dominic Toretto and his crew battle the most skilled assassin and high-performance driver they've ever encountered: his forsaken brother.",
         "popularity": 2210.419,
         "poster_path": "/bOFaAXmWWXC3Rbv4u4uM9ZSzRXP.jpg",
         "release_date": "2021-05-19",
         "title": "F9",
         "video": false,
         "vote_average": 8,
         "vote_count": 178
        },
        {
         "adult": false,
         "backdrop_path": "/6zbKgwgaaCyyBXE4Sun4oWQfQmi.jpg",
         "genre_ids": [
          28,
          80,
          18
         ],
         "id": 615457,
         "media_type": "movie",
         "original_language": "en",
         "original_title": "Nobody",
         "overview": "Hutch Mansell, a suburban dad, overlooked husband, nothing neighbor — a \"nobody.\" When two thieves break into his home one night, Hutch's unknown long-simmering rage is ignited and propels him on a brutal path that will uncover dark secrets he fought to leave behind.",
         "popularity": 850.037,
         "poster_path": "/oBgWY00bEFeZ9N25wWVyuQddbAo.jpg",
         "release_date": "2021-03-26",
         "title": "Nobody",
         "video": false,
         "vote_average": 8.4,
         "vote_count": 2233
        },
        {
         "adult": false,
         "backdrop_path": "/ro0Ctqoy4adO1K2T9JYHNYMJN0M.jpg",
         "genre_ids": [
          18,
          10751,
          35
         ],
         "id": 607259,
         "media_type": "movie",
         "original_language": "en",
         "original_title": "Fatherhood",
         "overview": "A widowed new dad copes with doubts, fears, heartache and dirty diapers as he sets out to raise his daughter on his own. Inspired by a true story.",
         "popularity": 649.314,
         "poster_path": "/pR2fzm82fl0giommpo310LBOMbV.jpg",
         "release_date": "2021-06-18",
         "title": "Fatherhood",
         "video": false,
         "vote_average": 8.1,
         "vote_count": 291
        },
        {
         "adult": false,
         "backdrop_path": "/qi6Edc1OPcyENecGtz8TF0DUr9e.jpg",
         "genre_ids": [
          27,
          9648,
          53
         ],
         "id": 423108,
         "media_type": "movie",
         "original_language": "en",
         "original_title": "The Conjuring: The Devil Made Me Do It",
         "overview": "Paranormal investigators Ed and Lorraine Warren encounter what would become one of the most sensational cases from their files. The fight for the soul of a young boy takes them beyond anything they'd ever seen before, to mark the first time in U.S. history that a murder suspect would claim demonic possession as a defense.",
         "popularity": 2210.675,
         "poster_path": "/xbSuFiJbbBWCkyCCKIMfuDCA4yV.jpg",
         "release_date": "2021-05-25",
         "title": "The Conjuring: The Devil Made Me Do It",
         "video": false,
         "vote_average": 8.1,
         "vote_count": 2530
        },
        {
         "adult": false,
         "backdrop_path": "/6MKr3KgOLmzOP6MSuZERO41Lpkt.jpg",
         "genre_ids": [
          35,
          80
         ],
         "id": 337404,
         "media_type": "movie",
         "original_language": "en",
         "original_title": "Cruella",
         "overview": "In 1970s London amidst the punk rock revolution, a young grifter named Estella is determined to make a name for herself with her designs. She befriends a pair of young thieves who appreciate her appetite for mischief, and together they are able to build a life for themselves on the London streets. One day, Estella’s flair for fashion catches the eye of the Baroness von Hellman, a fashion legend who is devastatingly chic and terrifyingly haute. But their relationship sets in motion a course of events and revelations that will cause Estella to embrace her wicked side and become the raucous, fashionable and revenge-bent Cruella.",
         "popularity": 3192.104,
         "poster_path": "/rTh4K5uw9HypmpGslcKd4QfHl93.jpg",
         "release_date": "2021-05-26",
         "title": "Cruella",
         "video": false,
         "vote_average": 8.5,
         "vote_count": 3236
        },
        {
         "adult": false,
         "backdrop_path": "/c0IV7MjIBJEmN3Tc1mR8QodDuNX.jpg",
         "genre_ids": [
          9648,
          16,
          28,
          80
         ],
         "id": 736073,
         "media_type": "movie",
         "original_language": "en",
         "original_title": "Batman: The Long Halloween, Part One",
         "overview": "Following a brutal series of murders taking place on Halloween, Thanksgiving, and Christmas, Gotham City's young vigilante known as the Batman sets out to pursue the mysterious serial killer alongside police officer James Gordon and district attorney Harvey Dent.",
         "popularity": 198.138,
         "poster_path": "/fvaB0jrzFXq07bUpox03k6qOAJu.jpg",
         "release_date": "2021-06-21",
         "title": "Batman: The Long Halloween, Part One",
         "video": false,
         "vote_average": 7.4,
         "vote_count": 34
        },
        {
         "adult": false,
         "backdrop_path": "/z2UtGA1WggESspi6KOXeo66lvLx.jpg",
         "genre_ids": [
          878,
          53,
          27
         ],
         "id": 520763,
         "media_type": "movie",
         "original_language": "en",
         "original_title": "A Quiet Place Part II",
         "overview": "Following the events at home, the Abbott family now face the terrors of the outside world. Forced to venture into the unknown, they realize that the creatures that hunt by sound are not the only threats that lurk beyond the sand path.",
         "popularity": 5213.474,
         "poster_path": "/4q2hz2m8hubgvijz8Ez0T2Os2Yv.jpg",
         "release_date": "2021-05-21",
         "title": "A Quiet Place Part II",
         "video": false,
         "vote_average": 7.4,
         "vote_count": 437
        },
        {
         "adult": false,
         "backdrop_path": "/inJjDhCjfhh3RtrJWBmmDqeuSYC.jpg",
         "genre_ids": [
          14,
          12,
          28
         ],
         "id": 399566,
         "media_type": "movie",
         "original_language": "en",
         "original_title": "Godzilla vs. Kong",
         "overview": "In a time when monsters walk the Earth, humanity’s fight for its future sets Godzilla and Kong on a collision course that will see the two most powerful forces of nature on the planet collide in a spectacular battle for the ages.",
         "popularity": 1288.954,
         "poster_path": "/pgqgaUx1cJb5oZQQ5v0tNARCeBp.jpg",
         "release_date": "2021-03-24",
         "title": "Godzilla vs. Kong",
         "video": false,
         "vote_average": 8,
         "vote_count": 6135
        },
        {
         "adult": false,
         "backdrop_path": "/5H1NuHeLuApgKhFvhQWoLMBqYa.jpg",
         "genre_ids": [
          35,
          18
         ],
         "id": 833971,
         "media_type": "movie",
         "original_language": "es",
         "original_title": "La Casa de Las Flores: La Película",
         "overview": "The De La Mora siblings concoct a mischievous plan to break into their old family home to retrieve a hidden treasure of significant importance.",
         "popularity": 99.75,
         "poster_path": "/nzbwTwSo8aKuvAytaPG6s0xGVE8.jpg",
         "release_date": "2021-06-23",
         "title": "The House of Flowers: The Movie",
         "video": false,
         "vote_average": 9,
         "vote_count": 20
        },
        {
         "adult": false,
         "backdrop_path": "/pKVw8zE33cUOfhWA0QYo4BIWGUc.jpg",
         "genre_ids": [
          28,
          12,
          18
         ],
         "id": 602063,
         "media_type": "movie",
         "original_language": "ja",
         "original_title": "るろうに剣心 最終章 The Final",
         "overview": "In 1879, Kenshin and his allies face their strongest enemy yet: his former brother-in-law Enishi Yukishiro and his minions, who've vowed their revenge.",
         "popularity": 247.226,
         "poster_path": "/7bbEASVf9XWtfxWiuWUMY3uyhTb.jpg",
         "release_date": "2021-04-23",
         "title": "Rurouni Kenshin: The Final",
         "video": false,
         "vote_average": 7.9,
         "vote_count": 103
        },
        {
         "adult": false,
         "backdrop_path": "/8FHQFJGCuIuSQ8hC7Iyrd8fPdy7.jpg",
         "genre_ids": [
          27
         ],
         "id": 591634,
         "media_type": "movie",
         "original_language": "en",
         "original_title": "False Positive",
         "overview": "After months of trying and failing to get pregnant, Lucy and Adrian finally find their dream fertility doctor in the illustrious Dr. Hindle. But after becoming pregnant with a healthy baby girl, Lucy begins to notice something sinister through Hindle's gleaming charm, and she sets out to uncover the unsettling truth about him, and her own \"birth story.\" As if getting pregnant weren't complicated enough...",
         "popularity": 12.743,
         "poster_path": "/3HSov8EW2fI3oQbUJxOvnf684ej.jpg",
         "release_date": "2021-06-18",
         "title": "False Positive",
         "video": false,
         "vote_average": 0,
         "vote_count": 0
        },
        {
         "adult": false,
         "backdrop_path": "/u4nN8MBTwIljDcRa9QA29myREZE.jpg",
         "genre_ids": [
          27,
          14,
          18
         ],
         "id": 795853,
         "media_type": "movie",
         "original_language": "en",
         "original_title": "Gaia",
         "overview": "On a surveillance mission in a primordial forest, a park ranger encounters two survivalists following a post-apocalyptic lifestyle. The boy and his philosophical father seem to have their own religion, and a mysterious relationship to nature. There are many suspicious aspects to their existence, but when the cabin is attacked by strange, post-human beings one night, she learns that there is a greater threat in this emergent wilderness. Gaia is an ecological horror fantasy which engages the burning issues of our time.",
         "popularity": 7.498,
         "poster_path": "/1Wo1PcpiDIkXuGCUSPnYItKzTNj.jpg",
         "release_date": "2021-06-18",
         "title": "Gaia",
         "video": false,
         "vote_average": 8,
         "vote_count": 1
        },
        {
         "adult": false,
         "backdrop_path": "/yefJJnW0sHkBxH3HjdizI4mmeCr.jpg",
         "genre_ids": [
          27,
          878,
          53
         ],
         "id": 579828,
         "media_type": "movie",
         "original_language": "ru",
         "original_title": "Кольская сверхглубокая",
         "overview": "The film is based on real events when, in the 1970s, the deepest well in the world with a depth of more than 12 thousand meters was drilled in Murmansk Region for research purposes. During drilling, seismic sensors began to pick up strange sounds, an explosion occurred that led to mystical events.",
         "popularity": 86.522,
         "poster_path": "/yNM4N9hBO97K3Fj4jpkuudoT7I3.jpg",
         "release_date": "2020-11-04",
         "title": "The Superdeep",
         "video": false,
         "vote_average": 7.1,
         "vote_count": 65
        },
        {
         "adult": false,
         "backdrop_path": "/9yBVqNruk6Ykrwc32qrK2TIE5xw.jpg",
         "genre_ids": [
          28,
          14,
          12
         ],
         "id": 460465,
         "media_type": "movie",
         "original_language": "en",
         "original_title": "Mortal Kombat",
         "overview": "Washed-up MMA fighter Cole Young, unaware of his heritage, and hunted by Emperor Shang Tsung's best warrior, Sub-Zero, seeks out and trains with Earth's greatest champions as he prepares to stand against the enemies of Outworld in a high stakes battle for the universe.",
         "popularity": 1404.274,
         "poster_path": "/nkayOAUBUu4mMvyNf9iHSUiPjF1.jpg",
         "release_date": "2021-04-07",
         "title": "Mortal Kombat",
         "video": false,
         "vote_average": 7.5,
         "vote_count": 3092
        },
        {
         "adult": false,
         "backdrop_path": "/wjQXZTlFM3PVEUmKf1sUajjygqT.jpg",
         "genre_ids": [
          878,
          28,
          53
         ],
         "id": 581726,
         "media_type": "movie",
         "original_language": "en",
         "original_title": "Infinite",
         "overview": "Evan McCauley has skills he never learned and memories of places he has never visited. Self-medicated and on the brink of a mental breakdown, a secret group that call themselves “Infinites” come to his rescue, revealing that his memories are real.",
         "popularity": 3864.801,
         "poster_path": "/niw2AKHz6XmwiRMLWaoyAOAti0G.jpg",
         "release_date": "2021-09-08",
         "title": "Infinite",
         "video": false,
         "vote_average": 0,
         "vote_count": 0
        },
        {
         "adult": false,
         "backdrop_path": "/xPpXYnCWfjkt3zzE0dpCNME1pXF.jpg",
         "genre_ids": [
          14,
          16,
          28,
          12,
          18
         ],
         "id": 635302,
         "media_type": "movie",
         "original_language": "ja",
         "original_title": "劇場版「鬼滅の刃」無限列車編",
         "overview": "Tanjirō Kamado, joined with Inosuke Hashibira, a boy raised by boars who wears a boar's head, and Zenitsu Agatsuma, a scared boy who reveals his true power when he sleeps, boards the Infinity Train on a new mission with the Fire Hashira, Kyōjurō Rengoku, to defeat a demon who has been tormenting the people and killing the demon slayers who oppose it!",
         "popularity": 835.301,
         "poster_path": "/h8Rb9gBr48ODIwYUttZNYeMWeUU.jpg",
         "release_date": "2020-10-16",
         "title": "Demon Slayer -Kimetsu no Yaiba- The Movie: Mugen Train",
         "video": false,
         "vote_average": 8.4,
         "vote_count": 1251
        }
       ],
       "total_pages": 1000,
       "total_results": 20000
      },
      "text/plain": [
       "<IPython.core.display.JSON object>"
      ]
     },
     "execution_count": 170,
     "metadata": {
      "application/json": {
       "expanded": false,
       "root": "root"
      }
     },
     "output_type": "execute_result"
    }
   ],
   "source": [
    "# Check trending movies\n",
    "JSON(res_movies.json())"
   ]
  },
  {
   "cell_type": "code",
   "execution_count": 164,
   "metadata": {},
   "outputs": [],
   "source": [
    "# Setup data\n",
    "trend_movies = res_movies.json()\n",
    "trend_tv = res_tv.json()\n",
    "trend_people = res_people.json()"
   ]
  },
  {
   "cell_type": "code",
   "execution_count": 183,
   "metadata": {},
   "outputs": [
    {
     "name": "stdout",
     "output_type": "stream",
     "text": [
      "1: Luca\n",
      "2: Spirit Untamed\n",
      "3: The Ice Road\n",
      "4: Good on Paper\n",
      "5: F9\n"
     ]
    }
   ],
   "source": [
    "def trend_5_movies(data):\n",
    "    \"\"\"Function that will return the top 5 trending movies\"\"\"\n",
    "    \n",
    "    for i in range(0,5):\n",
    "        movie = data['results'][i]['title']\n",
    "        print(f\"{i+1}: {movie}\")\n",
    "\n",
    "        \n",
    "    \n",
    "trend_5_movies(trend_movies)\n",
    "#trend_5(trend_people)"
   ]
  },
  {
   "cell_type": "code",
   "execution_count": 185,
   "metadata": {},
   "outputs": [
    {
     "name": "stdout",
     "output_type": "stream",
     "text": [
      "1: Loki\n",
      "2: Sex/Life\n",
      "3: The Naked Director\n",
      "4: Bosch\n",
      "5: Jiva!\n"
     ]
    }
   ],
   "source": [
    "def trend_5_tv(data):\n",
    "    \"\"\"Function that will return the top 5 trending results\"\"\"\n",
    "    \n",
    "    for i in range(0,5):\n",
    "        tv = data['results'][i]['name']\n",
    "        print(f\"{i+1}: {tv}\")\n",
    "        \n",
    "trend_5_tv(trend_tv)"
   ]
  },
  {
   "cell_type": "code",
   "execution_count": 188,
   "metadata": {},
   "outputs": [
    {
     "name": "stdout",
     "output_type": "stream",
     "text": [
      "1: Liam Neeson\n",
      "2: Denzel Washington\n",
      "3: Tom Cruise\n",
      "4: Sivaji Ganesan\n",
      "5: Scarlett Johansson\n"
     ]
    }
   ],
   "source": [
    "def trend_5_people(data):\n",
    "    \"\"\"Function that will return the top 5 trending results\"\"\"\n",
    "    \n",
    "    for i in range(0,5):\n",
    "        people = data['results'][i]['name']\n",
    "        print(f\"{i+1}: {people}\")\n",
    "        \n",
    "trend_5_people(trend_people)"
   ]
  }
 ],
 "metadata": {
  "kernelspec": {
   "display_name": "Python 3",
   "language": "python",
   "name": "python3"
  },
  "language_info": {
   "codemirror_mode": {
    "name": "ipython",
    "version": 3
   },
   "file_extension": ".py",
   "mimetype": "text/x-python",
   "name": "python",
   "nbconvert_exporter": "python",
   "pygments_lexer": "ipython3",
   "version": "3.8.8"
  }
 },
 "nbformat": 4,
 "nbformat_minor": 4
}
