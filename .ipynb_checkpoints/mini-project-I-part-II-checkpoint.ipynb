{
 "cells": [
  {
   "cell_type": "markdown",
   "metadata": {},
   "source": [
    "## Movies\n",
    "In this part of mini-project, we need to have our API-KEY ready because this API won't work without it.\n",
    "\n",
    "We encourage you to look for correct endpoints in [the documentation](https://developers.themoviedb.org/3/account). We can also play around with requests there before copying them to Python."
   ]
  },
  {
   "cell_type": "code",
   "execution_count": 2,
   "metadata": {},
   "outputs": [],
   "source": [
    "import json\n",
    "import requests\n",
    "import os\n",
    "from IPython.display import JSON"
   ]
  },
  {
   "cell_type": "markdown",
   "metadata": {},
   "source": [
    "## Demo"
   ]
  },
  {
   "cell_type": "code",
   "execution_count": 101,
   "metadata": {},
   "outputs": [],
   "source": [
    "base = \"https://api.themoviedb.org/3\"\n",
    "url = \"/search/movie\"\n",
    "\n",
    "query = 'the dark knight'\n",
    "api_key = \"7aea79b68f5f012f3ce9164418062533\"\n",
    "params = f'?query={query}&api_key={api_key}' "
   ]
  },
  {
   "cell_type": "code",
   "execution_count": 102,
   "metadata": {},
   "outputs": [],
   "source": [
    "#res = requests.get(base+url+params)\n",
    "res = requests.get(base+url,\n",
    "                   params = {'query': query, 'api_key': api_key})"
   ]
  },
  {
   "cell_type": "code",
   "execution_count": 103,
   "metadata": {},
   "outputs": [
    {
     "data": {
      "text/plain": [
       "200"
      ]
     },
     "execution_count": 103,
     "metadata": {},
     "output_type": "execute_result"
    }
   ],
   "source": [
    "res.status_code"
   ]
  },
  {
   "cell_type": "code",
   "execution_count": 104,
   "metadata": {},
   "outputs": [
    {
     "data": {
      "application/json": {
       "page": 1,
       "results": [
        {
         "adult": false,
         "backdrop_path": "/nMKdUUepR0i5zn0y1T4CsSB5chy.jpg",
         "genre_ids": [
          18,
          28,
          80,
          53
         ],
         "id": 155,
         "original_language": "en",
         "original_title": "The Dark Knight",
         "overview": "Batman raises the stakes in his war on crime. With the help of Lt. Jim Gordon and District Attorney Harvey Dent, Batman sets out to dismantle the remaining criminal organizations that plague the streets. The partnership proves to be effective, but they soon find themselves prey to a reign of chaos unleashed by a rising criminal mastermind known to the terrified citizens of Gotham as the Joker.",
         "popularity": 58.196,
         "poster_path": "/qJ2tW6WMUDux911r6m7haRef0WH.jpg",
         "release_date": "2008-07-16",
         "title": "The Dark Knight",
         "video": false,
         "vote_average": 8.5,
         "vote_count": 25292
        },
        {
         "adult": false,
         "backdrop_path": "/yzsegNpkRCPadnWmshrJzT3ardR.jpg",
         "genre_ids": [
          28,
          80,
          18,
          53
         ],
         "id": 49026,
         "original_language": "en",
         "original_title": "The Dark Knight Rises",
         "overview": "Following the death of District Attorney Harvey Dent, Batman assumes responsibility for Dent's crimes to protect the late attorney's reputation and is subsequently hunted by the Gotham City Police Department. Eight years later, Batman encounters the mysterious Selina Kyle and the villainous Bane, a new terrorist leader who overwhelms Gotham's finest. The Dark Knight resurfaces to protect a city that has branded him an enemy.",
         "popularity": 46.148,
         "poster_path": "/vzvKcPQ4o7TjWeGIn0aGC9FeVNu.jpg",
         "release_date": "2012-07-16",
         "title": "The Dark Knight Rises",
         "video": false,
         "vote_average": 7.8,
         "vote_count": 17911
        },
        {
         "adult": false,
         "backdrop_path": "/1YaG52CwGY3pKh76OBlwX0ymncg.jpg",
         "genre_ids": [
          878,
          28,
          16,
          9648
         ],
         "id": 123025,
         "original_language": "en",
         "original_title": "Batman: The Dark Knight Returns, Part 1",
         "overview": "Batman has not been seen for ten years. A new breed of criminal ravages Gotham City, forcing 55-year-old Bruce Wayne back into the cape and cowl. But, does he still have what it takes to fight crime in a new era?",
         "popularity": 43.283,
         "poster_path": "/kkjTbwV1Xnj8wBL52PjOcXzTbnb.jpg",
         "release_date": "2012-08-21",
         "title": "Batman: The Dark Knight Returns, Part 1",
         "video": false,
         "vote_average": 7.8,
         "vote_count": 1076
        },
        {
         "adult": false,
         "backdrop_path": "/bUQGT4xJib43OrnpmNzgrGaLWJM.jpg",
         "genre_ids": [
          16,
          28
         ],
         "id": 472027,
         "original_language": "en",
         "original_title": "Batman: The Dark Knight Returns",
         "overview": "Batman has not been seen for ten years. A new breed of criminal ravages Gotham City, forcing fifty-five-year-old Bruce Wayne back into the cape and cowl, but does he still have what it takes to fight crime in a new era?",
         "popularity": 16.103,
         "poster_path": "/9uydeANO6PLpD6Irh7qLizaEMjk.jpg",
         "release_date": "2013-10-08",
         "title": "Batman: The Dark Knight Returns",
         "video": true,
         "vote_average": 8.6,
         "vote_count": 60
        },
        {
         "adult": false,
         "backdrop_path": "/1P651JWVB8V0ML8SxqzWgf6uet6.jpg",
         "genre_ids": [
          878,
          28,
          16,
          9648
         ],
         "id": 142061,
         "original_language": "en",
         "original_title": "Batman: The Dark Knight Returns, Part 2",
         "overview": "Batman has stopped the reign of terror that The Mutants had cast upon his city.  Now an old foe wants a reunion and the government wants The Man of Steel to put a stop to Batman.",
         "popularity": 23.766,
         "poster_path": "/arEZYd6uMOFTILne9Ux0A8qctMe.jpg",
         "release_date": "2013-01-03",
         "title": "Batman: The Dark Knight Returns, Part 2",
         "video": false,
         "vote_average": 8,
         "vote_count": 1006
        },
        {
         "adult": false,
         "backdrop_path": "/9PnKdVpdC7HaNjQLKPygHMT637e.jpg",
         "genre_ids": [
          99
         ],
         "id": 29751,
         "original_language": "en",
         "original_title": "Batman Unmasked: The Psychology of the Dark Knight",
         "overview": "Delve into the world of Batman and the vigilante justice that he brought to the city of Gotham. Batman is a man who, after experiencing great tragedy, devotes his life to an ideal--but what happens when one man takes on the evil underworld alone? Examine why Batman is who he is--and explore how a boy scarred by tragedy becomes a symbol of hope to everyone else.",
         "popularity": 7.408,
         "poster_path": "/e15wNHmLX7PJUo8lqzQRhwbX7PL.jpg",
         "release_date": "2008-07-15",
         "title": "Batman Unmasked: The Psychology of the Dark Knight",
         "video": false,
         "vote_average": 7.6,
         "vote_count": 34
        },
        {
         "adult": false,
         "backdrop_path": "/lCBDox30tifVepnp4FZUjfdFYw9.jpg",
         "genre_ids": [
          28,
          80,
          18,
          53
         ],
         "id": 72003,
         "original_language": "en",
         "original_title": "The Dark Knight",
         "overview": "In a post-apocalyptic world ravaged by feuding warlords, a group of desperate soldiers hatch a plan to steal a Warlord's treasure and start a new life. Faced with the threat of a horrific death at the hands of the Warlord's executioners, the men escape into a desolate and forbidden land known only as the Shadowlands. Now the men must flee from the Warlord's vicious assassins while defending themselves from the terrifying creatures that inhabit the land.",
         "popularity": 1.483,
         "poster_path": "/kq4VZAQy30Hs6kQV4NJk1nZHP50.jpg",
         "release_date": "2011-07-11",
         "title": "Dark Nemesis",
         "video": false,
         "vote_average": 6.6,
         "vote_count": 5
        },
        {
         "adult": false,
         "backdrop_path": "/tVBsgjJ37KSuB4dUQAAqfc7h5Jf.jpg",
         "genre_ids": [
          99
         ],
         "id": 141559,
         "original_language": "en",
         "original_title": "Legends of the Dark Knight: The History of Batman",
         "overview": "A brief history of the DC Comics character Batman, created by Bob Kane in 1939.",
         "popularity": 3.111,
         "poster_path": "/ijOIT8msWufRPp1OCVIPIaWgvwc.jpg",
         "release_date": "2005-11-15",
         "title": "Legends of the Dark Knight: The History of Batman",
         "video": false,
         "vote_average": 6.7,
         "vote_count": 9
        },
        {
         "adult": false,
         "backdrop_path": "/vc4BgDe25zwpdOm9908MAvjb3PU.jpg",
         "genre_ids": [
          99
         ],
         "id": 243238,
         "original_language": "en",
         "original_title": "The Fire Rises: The Creation and Impact of The Dark Knight Trilogy",
         "overview": "This feature-length documentary delves into the trilogy, opening with the inspiration and vision for the new Batman films and inching its way toward the Rises finale and the culmination of nearly a decade of creative blood, sweat and tears. Candid, thoughtful and extensive, and comprised of revealing behind-the-scenes footage, countless interviews, audition tapes (with Christian Bale and Cillian Murphy doning the cape and cowl), and a narrative grip and momentum all its own, it leaves no stone unturned.",
         "popularity": 2.405,
         "poster_path": "/y78UlBU4Y2HnEuvSW4V0A5DzP3C.jpg",
         "release_date": "2013-09-24",
         "title": "The Fire Rises: The Creation and Impact of The Dark Knight Trilogy",
         "video": false,
         "vote_average": 6.5,
         "vote_count": 12
        },
        {
         "adult": false,
         "backdrop_path": null,
         "genre_ids": [
          16
         ],
         "id": 501972,
         "original_language": "en",
         "original_title": "Batman: The Animated Series -  Tales of the Dark Knight",
         "overview": "",
         "popularity": 1.974,
         "poster_path": "/9copibWIXwQSCJHQLJdokE7dwCj.jpg",
         "release_date": "",
         "title": "Batman: The Animated Series -  Tales of the Dark Knight",
         "video": true,
         "vote_average": 8,
         "vote_count": 1
        },
        {
         "adult": false,
         "backdrop_path": "/yY1tj3uSo3jikcQGThn1VCMrCKv.jpg",
         "genre_ids": [
          99,
          36
         ],
         "id": 369661,
         "original_language": "en",
         "original_title": "Masterpiece: Frank Miller's The Dark Knight Returns",
         "overview": "This is the master-crafted work of the legendary writer and artist Frank Miller. The film encapsulates, and celebrates the stunning achievement of Batman: the Dark Knight Returns, galvanizing the reason why this story ushered in the modern take of the dark and brooding protector of Gotham. This is the journey of Frank Miller, seeking the freedom that some authors only dream of in a lifetime. Narrated by Malcolm McDowell.",
         "popularity": 0.926,
         "poster_path": "/aWUJ3gcGsm50qMQ8tdUABqKqpMI.jpg",
         "release_date": "2013-10-08",
         "title": "Masterpiece: Frank Miller's The Dark Knight Returns",
         "video": false,
         "vote_average": 7,
         "vote_count": 1
        },
        {
         "adult": false,
         "backdrop_path": "/bvjanIWMmcHVxYmVmTwXKPCPpQe.jpg",
         "genre_ids": [
          99
         ],
         "id": 204651,
         "original_language": "en",
         "original_title": "Shadows of the Bat: The Cinematic Saga of the Dark Knight",
         "overview": "A six-part documentary primarily chronicling Warner Bros. Studios adaptations of the DC Comics character Batman, from 1989–1997. First premiered on the special features discs of the Batman Motion Picture Anthology DVD set.",
         "popularity": 1.668,
         "poster_path": "/4Id0fPgPp7dHWJbftGjorawN11k.jpg",
         "release_date": "2005-10-18",
         "title": "Shadows of the Bat: The Cinematic Saga of the Dark Knight",
         "video": true,
         "vote_average": 7.5,
         "vote_count": 7
        },
        {
         "adult": false,
         "backdrop_path": null,
         "genre_ids": [
          35,
          878,
          28
         ],
         "id": 805386,
         "original_language": "en",
         "original_title": "The Dark Knight: The Ballad of the N Word",
         "overview": "The Dark Knight with a twist. It's based on The Joker memes from the internet.",
         "popularity": 0.6,
         "poster_path": "/eMuhc8IcdxW7TG5iizLDXwN0AN9.jpg",
         "release_date": "2018-12-10",
         "title": "The Dark Knight: The Ballad of the N Word",
         "video": false,
         "vote_average": 0,
         "vote_count": 0
        },
        {
         "adult": false,
         "backdrop_path": "/mWIsvElXLgzjYKrv3Yy3i4y1RxL.jpg",
         "genre_ids": [
          28,
          16,
          80,
          10770
         ],
         "id": 377531,
         "original_language": "en",
         "original_title": "The Dark Knight's First Night",
         "overview": "\"The Dark Knight's First Night\" is the name given to the short two-minute pilot used by Bruce Timm and Eric Radomski to show Fox executives what they were planning to do with \"Batman: The Animated Series\".",
         "popularity": 1.589,
         "poster_path": "/zBx5oTDO0kNEb5hr420AOuz7PL9.jpg",
         "release_date": "1991-01-12",
         "title": "The Dark Knight's First Night",
         "video": false,
         "vote_average": 8.5,
         "vote_count": 14
        },
        {
         "adult": false,
         "backdrop_path": null,
         "genre_ids": [],
         "id": 745984,
         "original_language": "en",
         "original_title": "Shadows of the Bat: The Cinematic Saga of the Dark Knight - Batman Unbound",
         "overview": "Shadows of the Bat: The Cinematic Saga of the Dark Knight - Batman Unbound",
         "popularity": 0.96,
         "poster_path": null,
         "release_date": "",
         "title": "Shadows of the Bat: The Cinematic Saga of the Dark Knight - Batman Unbound",
         "video": false,
         "vote_average": 0,
         "vote_count": 0
        },
        {
         "adult": false,
         "backdrop_path": null,
         "genre_ids": [],
         "id": 744968,
         "original_language": "en",
         "original_title": "Shadows of the Bat: The Cinematic Saga of the Dark Knight - The Road to Gotham City",
         "overview": "A look at how the Batman franchise was revived by the film Batman (1989).",
         "popularity": 1.092,
         "poster_path": "/g4hixdLJvLOE7gnkHFUEKLGlWjV.jpg",
         "release_date": "2005-10-18",
         "title": "Shadows of the Bat: The Cinematic Saga of the Dark Knight - The Road to Gotham City",
         "video": false,
         "vote_average": 0,
         "vote_count": 0
        },
        {
         "adult": false,
         "backdrop_path": null,
         "genre_ids": [],
         "id": 744974,
         "original_language": "en",
         "original_title": "Shadows of the Bat: The Cinematic Saga of the Dark Knight - The Legend Reborn",
         "overview": "An overview of the making of the film Batman (1989).",
         "popularity": 0.6,
         "poster_path": "/d9Qr66ijx9CTDVFXYuddcVUFcWY.jpg",
         "release_date": "2005-10-18",
         "title": "Shadows of the Bat: The Cinematic Saga of the Dark Knight - The Legend Reborn",
         "video": false,
         "vote_average": 6.5,
         "vote_count": 2
        },
        {
         "adult": false,
         "backdrop_path": null,
         "genre_ids": [],
         "id": 745654,
         "original_language": "en",
         "original_title": "Shadows of the Bat: The Cinematic Saga of the Dark Knight - Reinventing a Hero",
         "overview": "A doc about Batman Forever",
         "popularity": 0.6,
         "poster_path": null,
         "release_date": "",
         "title": "Shadows of the Bat: The Cinematic Saga of the Dark Knight - Reinventing a Hero",
         "video": false,
         "vote_average": 0,
         "vote_count": 0
        },
        {
         "adult": false,
         "backdrop_path": null,
         "genre_ids": [],
         "id": 68131,
         "original_language": "en",
         "original_title": "Shadows of the Bat: The Cinematic Saga of the Dark Knight: The Gathering Storm",
         "overview": "2/6: An overview of the development of the film Batman (1989)",
         "popularity": 0.6,
         "poster_path": "/4FGNIOeo1tkGH83NspyxbIkgKDk.jpg",
         "release_date": "2005-10-18",
         "title": "Shadows of the Bat: The Cinematic Saga of the Dark Knight: The Gathering Storm",
         "video": false,
         "vote_average": 6.5,
         "vote_count": 2
        },
        {
         "adult": false,
         "backdrop_path": null,
         "genre_ids": [],
         "id": 745316,
         "original_language": "en",
         "original_title": "Shadows of the Bat: The Cinematic Saga of the Dark Knight - Dark Side of the Knight",
         "overview": "An overview of the making of Batman Returns (1992).",
         "popularity": 0.6,
         "poster_path": "/p5mi0ZH5aElLgflK9ahabdtfvnW.jpg",
         "release_date": "2005-10-18",
         "title": "Shadows of the Bat: The Cinematic Saga of the Dark Knight - Dark Side of the Knight",
         "video": false,
         "vote_average": 0,
         "vote_count": 0
        }
       ],
       "total_pages": 2,
       "total_results": 23
      },
      "text/plain": [
       "<IPython.core.display.JSON object>"
      ]
     },
     "execution_count": 104,
     "metadata": {
      "application/json": {
       "expanded": false,
       "root": "root"
      }
     },
     "output_type": "execute_result"
    }
   ],
   "source": [
    "JSON(res.json())"
   ]
  },
  {
   "cell_type": "code",
   "execution_count": null,
   "metadata": {},
   "outputs": [],
   "source": []
  },
  {
   "cell_type": "code",
   "execution_count": null,
   "metadata": {},
   "outputs": [],
   "source": []
  },
  {
   "cell_type": "markdown",
   "metadata": {},
   "source": [
    "## Task\n",
    "Search for you favorite movie and return the information about the movie:\n",
    "- name\n",
    "- release date\n",
    "- runtime\n",
    "- revenue\n",
    "- length of the overview\n",
    "- number of votes\n",
    "- voting average"
   ]
  },
  {
   "cell_type": "code",
   "execution_count": 35,
   "metadata": {},
   "outputs": [
    {
     "name": "stdout",
     "output_type": "stream",
     "text": [
      "My Favorite Movie: The Dark Knight\n",
      "Release Date: 2008-07-16\n",
      "Overview Length: 396 characters\n",
      "Number of Votes: 25292\n",
      "The Voting Average: 25292\n"
     ]
    }
   ],
   "source": [
    "dark_knight = res.json()\n",
    "name = dark_knight['results'][0]['original_title']\n",
    "release_date = dark_knight['results'][0]['release_date']\n",
    "overview_length = len(dark_knight['results'][0]['overview'])\n",
    "vote_count = dark_knight['results'][0]['vote_count']\n",
    "vote_avg = dark_knight['results'][0]['vote_average']\n",
    "\n",
    "print(f\"My Favorite Movie: {name}\")\n",
    "print(f\"Release Date: {release_date}\")\n",
    "print(f\"Overview Length: {overview_length} characters\")\n",
    "print(f\"Number of Votes: {vote_count}\")\n",
    "print(f\"The Voting Average: {vote_count}\")"
   ]
  },
  {
   "cell_type": "code",
   "execution_count": null,
   "metadata": {},
   "outputs": [],
   "source": []
  },
  {
   "cell_type": "code",
   "execution_count": null,
   "metadata": {},
   "outputs": [],
   "source": []
  },
  {
   "cell_type": "code",
   "execution_count": null,
   "metadata": {},
   "outputs": [],
   "source": []
  },
  {
   "cell_type": "markdown",
   "metadata": {},
   "source": [
    "## Task\n",
    "Search for you favorite actor/actress and return the information about him/her:\n",
    "- name\n",
    "- date of birth\n",
    "- place of birth\n",
    "- length of the biography"
   ]
  },
  {
   "cell_type": "code",
   "execution_count": 61,
   "metadata": {},
   "outputs": [
    {
     "data": {
      "text/plain": [
       "200"
      ]
     },
     "execution_count": 61,
     "metadata": {},
     "output_type": "execute_result"
    }
   ],
   "source": [
    "url = \"/search/person\"\n",
    "\n",
    "query = 'Leonardo DiCaprio'\n",
    "params = f'?query={query}&api_key={api_key}' \n",
    "res = requests.get(base+url+params)\n",
    "res.status_code"
   ]
  },
  {
   "cell_type": "code",
   "execution_count": 60,
   "metadata": {},
   "outputs": [
    {
     "data": {
      "application/json": {
       "page": 1,
       "results": [
        {
         "adult": false,
         "gender": 2,
         "id": 6193,
         "known_for": [
          {
           "adult": false,
           "backdrop_path": "/ii8QGacT3MXESqBckQlyrATY0lT.jpg",
           "genre_ids": [
            28,
            878,
            12
           ],
           "id": 27205,
           "media_type": "movie",
           "original_language": "en",
           "original_title": "Inception",
           "overview": "Cobb, a skilled thief who commits corporate espionage by infiltrating the subconscious of his targets is offered a chance to regain his old life as payment for a task considered to be impossible: \"inception\", the implantation of another person's idea into a target's subconscious.",
           "poster_path": "/9gk7adHYeDvHkCSEqAvQNLV5Uge.jpg",
           "release_date": "2010-07-15",
           "title": "Inception",
           "video": false,
           "vote_average": 8.3,
           "vote_count": 29271
          },
          {
           "adult": false,
           "backdrop_path": "/lVcI3MOtumvEbOdS1Og7QoV6Lfc.jpg",
           "genre_ids": [
            18,
            37
           ],
           "id": 68718,
           "media_type": "movie",
           "original_language": "en",
           "original_title": "Django Unchained",
           "overview": "With the help of a German bounty hunter, a freed slave sets out to rescue his wife from a brutal Mississippi plantation owner.",
           "poster_path": "/4E4TTsCXVFyhBtYu9fKy0gIT3Ih.jpg",
           "release_date": "2012-12-25",
           "title": "Django Unchained",
           "video": false,
           "vote_average": 8.1,
           "vote_count": 20764
          },
          {
           "adult": false,
           "backdrop_path": "/6VmFqApQRyZZzmiGOQq2C92jyvH.jpg",
           "genre_ids": [
            18,
            10749
           ],
           "id": 597,
           "media_type": "movie",
           "original_language": "en",
           "original_title": "Titanic",
           "overview": "101-year-old Rose DeWitt Bukater tells the story of her life aboard the Titanic, 84 years later. A young Rose boards the ship with her mother and fiancé. Meanwhile, Jack Dawson and Fabrizio De Rossi win third-class tickets aboard the ship. Rose tells the whole story from Titanic's departure through to its death—on its first and last voyage—on April 15, 1912.",
           "poster_path": "/9xjZS2rlVxm8SFx8kPC3aIGCOYQ.jpg",
           "release_date": "1997-11-18",
           "title": "Titanic",
           "video": false,
           "vote_average": 7.9,
           "vote_count": 19344
          }
         ],
         "known_for_department": "Acting",
         "name": "Leonardo DiCaprio",
         "popularity": 11.053,
         "profile_path": "/wo2hJpn04vbtmh0B9utCFdsQhxM.jpg"
        }
       ],
       "total_pages": 1,
       "total_results": 1
      },
      "text/plain": [
       "<IPython.core.display.JSON object>"
      ]
     },
     "execution_count": 60,
     "metadata": {
      "application/json": {
       "expanded": false,
       "root": "root"
      }
     },
     "output_type": "execute_result"
    }
   ],
   "source": [
    "JSON(res.json())"
   ]
  },
  {
   "cell_type": "code",
   "execution_count": null,
   "metadata": {},
   "outputs": [],
   "source": []
  },
  {
   "cell_type": "markdown",
   "metadata": {},
   "source": [
    "## Task\n",
    "Search for you favorite tv-show and return the information about it:\n",
    "- name\n",
    "- first air date\n",
    "- number of seasons\n",
    "- number of episodes\n",
    "- genres"
   ]
  },
  {
   "cell_type": "code",
   "execution_count": 106,
   "metadata": {},
   "outputs": [
    {
     "data": {
      "text/plain": [
       "404"
      ]
     },
     "execution_count": 106,
     "metadata": {},
     "output_type": "execute_result"
    }
   ],
   "source": [
    "url = \"/tv/{tv_id}\"\n",
    "\n",
    "tv_id = 62560\n",
    "query = 'Mr. Robot'\n",
    "#params = f'?api_key={api_key}' \n",
    "res = requests.get(base+url,\n",
    "                   params = {'tv_id': tv_id, 'api_key': api_key})\n",
    "res.status_code"
   ]
  },
  {
   "cell_type": "code",
   "execution_count": 51,
   "metadata": {},
   "outputs": [
    {
     "data": {
      "application/json": {
       "page": 1,
       "results": [
        {
         "backdrop_path": "/4n0TZfTUSUELqRrOA8sZKWs9bWU.jpg",
         "first_air_date": "2015-06-24",
         "genre_ids": [
          80,
          18
         ],
         "id": 62560,
         "name": "Mr. Robot",
         "origin_country": [
          "US"
         ],
         "original_language": "en",
         "original_name": "Mr. Robot",
         "overview": "A contemporary and culturally resonant drama about a young programmer, Elliot, who suffers from a debilitating anti-social disorder and decides that he can only connect to people by hacking them. He wields his skills as a weapon to protect the people that he cares about. Elliot will find himself in the intersection between a cybersecurity firm he works for and the underworld organizations that are recruiting him to bring down corporate America.",
         "popularity": 65.057,
         "poster_path": "/oKIBhzZzDX07SoE2bOLhq2EE8rf.jpg",
         "vote_average": 8.2,
         "vote_count": 2939
        },
        {
         "backdrop_path": null,
         "first_air_date": "2016-07-20",
         "genre_ids": [
          10767
         ],
         "id": 67088,
         "name": "Mr. Robot Digital After Show",
         "origin_country": [
          "US"
         ],
         "original_language": "en",
         "original_name": "Mr. Robot Digital After Show",
         "overview": "A live weekly online series, hosted by The Verge, that dives into the complexities of USA Network's critically acclaimed hacker drama, Mr. Robot. Each episode features an in-depth discussion about the most recent episode of Mr. Robot from both an artistic and technological perspective.",
         "popularity": 2.839,
         "poster_path": "/1BS8oN0AbWnOWOPLv49gfwrrpO2.jpg",
         "vote_average": 10,
         "vote_count": 1
        }
       ],
       "total_pages": 1,
       "total_results": 2
      },
      "text/plain": [
       "<IPython.core.display.JSON object>"
      ]
     },
     "execution_count": 51,
     "metadata": {
      "application/json": {
       "expanded": false,
       "root": "root"
      }
     },
     "output_type": "execute_result"
    }
   ],
   "source": [
    "JSON(res.json())"
   ]
  },
  {
   "cell_type": "code",
   "execution_count": null,
   "metadata": {},
   "outputs": [],
   "source": []
  },
  {
   "cell_type": "markdown",
   "metadata": {},
   "source": [
    "## Task \n",
    "Find top 5 trending:\n",
    "- movies\n",
    "- tv-shows\n",
    "- people"
   ]
  },
  {
   "cell_type": "code",
   "execution_count": 64,
   "metadata": {},
   "outputs": [
    {
     "data": {
      "text/plain": [
       "500"
      ]
     },
     "execution_count": 64,
     "metadata": {},
     "output_type": "execute_result"
    }
   ],
   "source": [
    "url = \"/trending/{media_type}/{time_window}\"\n",
    "\n",
    "media_type = 'movie'\n",
    "time_window = 'day'\n",
    "params = f'?media_type={media_type}&time_window={time_window}&api_key={api_key}' \n",
    "res = requests.get(base+url+params)\n",
    "res.status_code"
   ]
  },
  {
   "cell_type": "code",
   "execution_count": null,
   "metadata": {},
   "outputs": [],
   "source": []
  }
 ],
 "metadata": {
  "kernelspec": {
   "display_name": "Python 3",
   "language": "python",
   "name": "python3"
  },
  "language_info": {
   "codemirror_mode": {
    "name": "ipython",
    "version": 3
   },
   "file_extension": ".py",
   "mimetype": "text/x-python",
   "name": "python",
   "nbconvert_exporter": "python",
   "pygments_lexer": "ipython3",
   "version": "3.8.8"
  }
 },
 "nbformat": 4,
 "nbformat_minor": 4
}
